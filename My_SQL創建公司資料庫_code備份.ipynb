{
  "nbformat": 4,
  "nbformat_minor": 0,
  "metadata": {
    "colab": {
      "provenance": [],
      "authorship_tag": "ABX9TyNzsVmFQW6+OK9m3dhKaLud",
      "include_colab_link": true
    },
    "kernelspec": {
      "name": "python3",
      "display_name": "Python 3"
    },
    "language_info": {
      "name": "python"
    }
  },
  "cells": [
    {
      "cell_type": "markdown",
      "metadata": {
        "id": "view-in-github",
        "colab_type": "text"
      },
      "source": [
        "<a href=\"https://colab.research.google.com/github/viviviannnnn/python/blob/main/My_SQL%E5%89%B5%E5%BB%BA%E5%85%AC%E5%8F%B8%E8%B3%87%E6%96%99%E5%BA%AB_code%E5%82%99%E4%BB%BD.ipynb\" target=\"_parent\"><img src=\"https://colab.research.google.com/assets/colab-badge.svg\" alt=\"Open In Colab\"/></a>"
      ]
    },
    {
      "cell_type": "code",
      "execution_count": null,
      "metadata": {
        "id": "dszePznDPFQI"
      },
      "outputs": [],
      "source": [
        "# USE `sql_class`;\n",
        "\n",
        "# CREATE TABLE `employee`(\n",
        "# \t`emp_id` INT PRIMARY KEY,\n",
        "#     `name` VARCHAR(20),\n",
        "#     `birth_date` DATE,\n",
        "#     `sex` VARCHAR(20),\n",
        "#     `salary` INT,\n",
        "#     `branch_id` INT,\n",
        "#     `sup_id` INT\n",
        "#     );\n",
        "\n",
        "# CREATE TABLE `branch`(\n",
        "# \t`branch_id`INT PRIMARY KEY,\n",
        "#     `branch_name` VARCHAR(20),\n",
        "#     `manager_id` INT,\n",
        "#     FOREIGN KEY (`manager_id`) REFERENCES `employee`(`emp_id`) ON DELETE SET NULL\n",
        "#     );\n",
        "\n",
        "# ALTER TABLE`employee`\n",
        "# ADD FOREIGN KEY (`branch_id`)\n",
        "# REFERENCES `branch`(`branch_id`)\n",
        "# ON DELETE SET NULL;\n",
        "\n",
        "# ALTER TABLE`employee`\n",
        "# ADD FOREIGN KEY (`sup_id`)\n",
        "# REFERENCES `employee`(`emp_id`)\n",
        "# ON DELETE SET NULL;\n",
        "\n",
        "# CREATE TABLE `client`(\n",
        "# \t`client_id` INT PRIMARY KEY,\n",
        "#     `client_name` VARCHAR(20),\n",
        "#     `phone` VARCHAR(20)\n",
        "#     );\n",
        "\n",
        "# CREATE TABLE `works_with`(\n",
        "# \t`emp_id` INT,\n",
        "#     `client_id` INT,\n",
        "#     `total_sales` INT,\n",
        "#     PRIMARY KEY (`emp_id`,`client_id`),\n",
        "#     FOREIGN KEY (`emp_id`) REFERENCES `employee`(`emp_id`) ON DELETE CASCADE,\n",
        "#     FOREIGN KEY (`client_id`) REFERENCES `client`(`client_id`) ON DELETE CASCADE\n",
        "#     );\n",
        "\n",
        "# DROP TABLE `work_with`;\n",
        "# DESCRIBE`work_with`;\n"
      ]
    },
    {
      "cell_type": "code",
      "source": [
        "# -- 新增公司資料進去\n",
        "\n",
        "# INSERT INTO `branch` VALUES(1, '研發', NULL);\n",
        "# INSERT INTO `branch` VALUES(2, '行政', NULL);\n",
        "# INSERT INTO `branch` VALUES(3, '資訊', NULL);\n",
        "\n",
        "# INSERT INTO `employee` VALUES(206, '小黃', '1998-10-8', 'F', 50000, 1, NULL);\n",
        "# INSERT INTO `employee` VALUES(207, '小綠', '1985-09-16', 'M', 29000, 2, 206);\n",
        "# INSERT INTO `employee` VALUES(208, '小黑', '2000-12-19', 'M', 35000, 3, 207);\n",
        "# INSERT INTO `employee` VALUES(209, '小白', '1997-01-22', 'F', 39000, 3, 207);\n",
        "# INSERT INTO `employee` VALUES(210, '小藍', '1925-11-10', 'F', 84000, 1, 207);\n",
        "\n",
        "# UPDATE`branch`\n",
        "# SET`manager_id` = 208\n",
        "# WHERE `branch_id` = 3;\n",
        "\n",
        "# INSERT INTO `client` VALUES(400, '阿狗', '254354335');\n",
        "# INSERT INTO `client` VALUES(401, '阿貓', '25633899');\n",
        "# INSERT INTO `client` VALUES(402, '旺來', '45354345');\n",
        "# INSERT INTO `client` VALUES(403, '露西', '54354365');\n",
        "# INSERT INTO `client` VALUES(404, '艾瑞克', '18783783');\n",
        "\n",
        "# INSERT INTO `works_with` VALUES(206,400,70000 );\n",
        "# INSERT INTO `works_with` VALUES(207,401,24000);\n",
        "# INSERT INTO `works_with` VALUES(208,402,9800);\n",
        "# INSERT INTO `works_with` VALUES(209,403,24000);\n",
        "# INSERT INTO `works_with` VALUES(210,404,87940);\n",
        "\n",
        "\n",
        "# SELECT * FROM `employee`;"
      ],
      "metadata": {
        "id": "41mtJNYFPeU4"
      },
      "execution_count": null,
      "outputs": []
    },
    {
      "cell_type": "code",
      "source": [
        "# -- 練習\n",
        "\n",
        "# -- 取得所有員工資料\n",
        "# SELECT * FROM`employee`;\n",
        "# -- 取得所有客戶資料\n",
        "# SELECT * FROM`client`;\n",
        "# -- 按薪水低到高取得員工資料\n",
        "# SELECT * FROM`employee`\n",
        "# ORDER BY `salary`;\n",
        "# -- 取得薪水前三高的員工\n",
        "# SELECT * FROM `employee`\n",
        "# ORDER BY `salary` DESC\n",
        "# LIMIT 3;\n",
        "# -- 取得所有員工名字\n",
        "# SELECT `name` FROM `employee`;\n",
        "\n",
        "# -- 取得所有員工性別且不重複\n",
        "# SELECT DISTINCT `sex` FROM `employee`;"
      ],
      "metadata": {
        "id": "z1GC4I4APyfy"
      },
      "execution_count": null,
      "outputs": []
    },
    {
      "cell_type": "code",
      "source": [
        "# -- 聚合函數 aggregate functions\n",
        "\n",
        "# -- 取得員工人數\n",
        "# SELECT COUNT(*) FROM `employee`; -- 看總共幾筆資料\n",
        "# SELECT COUNT(`sup_id`) FROM `employee`;\n",
        "\n",
        "# -- 取得所有出生於1970-01-01之後的女性員工人數\n",
        "# SELECT COUNT(*) FROM `employee`\n",
        "# WHERE `birth_date`> '1970-01-01' AND `sex` = 'F';\n",
        "\n",
        "# -- 取得所有員工的平均薪水\n",
        "# SELECT AVG(`salary`) FROM `employee`;\n",
        "\n",
        "# -- 取得所有員工薪水總合\n",
        "# SELECT SUM(`salary`) FROM `employee`;\n",
        "\n",
        "# -- 取得薪水最高的員工\n",
        "# SELECT MAX(`salary`) FROM `employee`;\n",
        "\n",
        "# -- 取得薪水最低的員工\n",
        "# SELECT MIN(`salary`) FROM `employee`;"
      ],
      "metadata": {
        "id": "USDzrx8aP06Z"
      },
      "execution_count": null,
      "outputs": []
    },
    {
      "cell_type": "code",
      "source": [
        "# -- wildcards萬用字元  ％代表多個字元, _代表一個字元alter\n",
        "\n",
        "# -- 取得電話號碼尾數是335的客戶\n",
        "# SELECT * FROM `client` WHERE `phone` LIKE '%335';\n",
        "# -- 取得電話號碼中間有354的客戶\n",
        "# SELECT * FROM `client` WHERE  `phone` LIKE '%354%';\n",
        "\n",
        "# -- 取得姓艾的客戶\n",
        "# SELECT * FROM `client` WHERE `client_name` LIKE '艾%';\n",
        "\n",
        "# -- 取得生日在12月的員工\n",
        "# SELECT * FROM `employee` WHERE `birth_date` LIKE '_____12%';"
      ],
      "metadata": {
        "id": "1LGu3anaP5M8"
      },
      "execution_count": null,
      "outputs": []
    },
    {
      "cell_type": "code",
      "source": [
        "# -- union聯集\n",
        "\n",
        "# -- 員工名字 union 客戶名字 union 部門名稱\n",
        "# SELECT `name` FROM `employee`\n",
        "# UNION\n",
        "# SELECT `client_name` FROM `client`\n",
        "# UNION\n",
        "# SELECT `branch_name` FROM `branch`;\n",
        "\n",
        "# -- 員工id+員工名字 union 客戶id+客戶名字\n",
        "# SELECT `emp_id` AS `total_id` ,`name` AS `total_name` FROM `employee`\n",
        "# UNION\n",
        "# SELECT `client_id`,`client_name` FROM `client`;\n",
        "\n",
        "# -- 員工薪水 union 銷售金額\n",
        "# SELECT `salary`  AS `total_money` FROM `employee`\n",
        "# UNION\n",
        "# SELECT `total_sales` FROM `works_with`;"
      ],
      "metadata": {
        "id": "r4l7uPlzP9b_"
      },
      "execution_count": null,
      "outputs": []
    },
    {
      "cell_type": "code",
      "source": [
        "# -- union聯集\n",
        "\n",
        "# -- 員工名字 union 客戶名字 union 部門名稱\n",
        "# SELECT `name` FROM `employee`\n",
        "# UNION\n",
        "# SELECT `client_name` FROM `client`\n",
        "# UNION\n",
        "# SELECT `branch_name` FROM `branch`;\n",
        "\n",
        "# -- 員工id+員工名字 union 客戶id+客戶名字\n",
        "# SELECT `emp_id` AS `total_id` ,`name` AS `total_name` FROM `employee`\n",
        "# UNION\n",
        "# SELECT `client_id`,`client_name` FROM `client`;\n",
        "\n",
        "# -- 員工薪水 union 銷售金額\n",
        "# SELECT `salary`  AS `total_money` FROM `employee`\n",
        "# UNION\n",
        "# SELECT `total_sales` FROM `works_with`;"
      ],
      "metadata": {
        "id": "twTXhvtKQA54"
      },
      "execution_count": null,
      "outputs": []
    },
    {
      "cell_type": "code",
      "source": [
        "# -- union聯集\n",
        "\n",
        "# -- 員工名字 union 客戶名字 union 部門名稱\n",
        "# SELECT `name` FROM `employee`\n",
        "# UNION\n",
        "# SELECT `client_name` FROM `client`\n",
        "# UNION\n",
        "# SELECT `branch_name` FROM `branch`;\n",
        "\n",
        "# -- 員工id+員工名字 union 客戶id+客戶名字\n",
        "# SELECT `emp_id` AS `total_id` ,`name` AS `total_name` FROM `employee`\n",
        "# UNION\n",
        "# SELECT `client_id`,`client_name` FROM `client`;\n",
        "\n",
        "# -- 員工薪水 union 銷售金額\n",
        "# SELECT `salary`  AS `total_money` FROM `employee`\n",
        "# UNION\n",
        "# SELECT `total_sales` FROM `works_with`;"
      ],
      "metadata": {
        "id": "k1TOWQ11QGuD"
      },
      "execution_count": null,
      "outputs": []
    },
    {
      "cell_type": "code",
      "source": [
        "# -- on delete\n",
        "\n",
        "# DELETE FROM `employee`\n",
        "# WHERE `emp_id` = 207;\n",
        "\n",
        "# SELECT * FROM `branch`;\n",
        "# SELECT * FROM `works_with`;\n",
        "\n",
        "# -- primary key 不可為 NULL，所以要寫ON DELETE CASCADE"
      ],
      "metadata": {
        "id": "ZVvslo5vQKCx"
      },
      "execution_count": null,
      "outputs": []
    }
  ]
}