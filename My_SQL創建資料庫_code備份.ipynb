{
  "nbformat": 4,
  "nbformat_minor": 0,
  "metadata": {
    "colab": {
      "provenance": [],
      "authorship_tag": "ABX9TyOlU2uUEMEsb9EirgGCeP6F",
      "include_colab_link": true
    },
    "kernelspec": {
      "name": "python3",
      "display_name": "Python 3"
    },
    "language_info": {
      "name": "python"
    }
  },
  "cells": [
    {
      "cell_type": "markdown",
      "metadata": {
        "id": "view-in-github",
        "colab_type": "text"
      },
      "source": [
        "<a href=\"https://colab.research.google.com/github/viviviannnnn/python/blob/main/My_SQL%E5%89%B5%E5%BB%BA%E8%B3%87%E6%96%99%E5%BA%AB_code%E5%82%99%E4%BB%BD.ipynb\" target=\"_parent\"><img src=\"https://colab.research.google.com/assets/colab-badge.svg\" alt=\"Open In Colab\"/></a>"
      ]
    },
    {
      "cell_type": "code",
      "execution_count": null,
      "metadata": {
        "id": "lbXEqj3pXk_2"
      },
      "outputs": [],
      "source": [
        "# CREATE DATABASE `sql_class`;\n",
        "# USE `sql_class`;\n",
        "\n",
        "# CREATE TABLE `student`(\n",
        "# \t`student_id` INT AUTO_INCREMENT,\n",
        "#     `name` VARCHAR(20) UNIQUE,\n",
        "#     `major` VARCHAR(20) DEFAULT'歷史',\n",
        "#     `score` INT,\n",
        "#     PRIMARY KEY(`student_id`)\n",
        "# );\n",
        "\n",
        "# DROP TABLE`student`;\n",
        "# DESCRIBE `student`; -- 顯示屬性\n",
        "# ALTER TABLE `student` ADD `gpa` DECIMAL(3,2);\n",
        "# ALTER TABLE `student` DROP COLUMN `gpa`;\n",
        "\n",
        "# SELECT*FROM `student`; -- 顯示表格和內容\n",
        "# INSERT INTO `student` VALUES(1,'小白','歷史');\n",
        "# INSERT INTO `student`(`name`,`major`,`student_id`) VALUES ('小黑','生物',2);\n",
        "# INSERT INTO `student`(`name`,`student_id`) VALUES ('小白',1);\n",
        "# INSERT INTO `student`(`name`,`major`,`score`) VALUES ('小紫','設計',92);"
      ]
    },
    {
      "cell_type": "code",
      "source": [
        "# -- 修改＆刪除資料Update&delete\n",
        "\n",
        "# SET SQL_SAFE_UPDATES = 0;\n",
        "\n",
        "# CREATE TABLE `student`(\n",
        "# \t`student_id` INT AUTO_INCREMENT,\n",
        "#     `name` VARCHAR(20) UNIQUE,\n",
        "#     `major` VARCHAR(20) DEFAULT'歷史',\n",
        "#     PRIMARY KEY(`student_id`)\n",
        "# );\n",
        "\n",
        "# SELECT*FROM `student`;\n",
        "\n",
        "# UPDATE `student`\n",
        "# SET `score` = 82\n",
        "# WHERE `student_id` = 12;\n",
        "\n",
        "# UPDATE `student`\n",
        "# SET `name` = '綠綠',`major` = '健康與體育'\n",
        "# WHERE `student_id` = 3;\n",
        "\n",
        "# DELETE FROM `student`\n",
        "# WHERE `name` = '小白';\n",
        "\n",
        "# DELETE FROM `student`\n",
        "# WHERE `score` <88;\n",
        "\n",
        "# DELETE FROM `student`; -- 內部資料全部刪除"
      ],
      "metadata": {
        "id": "fnoQ40eqXtJI"
      },
      "execution_count": null,
      "outputs": []
    },
    {
      "cell_type": "code",
      "source": [
        "# -- 取得資料\n",
        "\n",
        "# SELECT*FROM `student`;\n",
        "\n",
        "# SELECT `name`,`major` FROM `student`;\n",
        "\n",
        "# SELECT*\n",
        "# FROM `student`\n",
        "# ORDER BY `score` DESC -- 由高到低alter\n",
        "# LIMIT 3;\n",
        "\n",
        "# SELECT*\n",
        "# FROM `student`\n",
        "# ORDER BY `score`,`student_id`; -- 會由低到高（ASC）\n",
        "\n",
        "# SELECT*\n",
        "# FROM`student`\n",
        "# WHERE `major` = '體育' OR `score` <> 77\n",
        "# LIMIT 3 ;\n",
        "\n",
        "# SELECT*\n",
        "# FROM `student`\n",
        "# WHERE `major` IN ('經濟','美術'); -- 等於`major` = '經濟' OR `major` = '美術'"
      ],
      "metadata": {
        "id": "GTxoBZryXx4R"
      },
      "execution_count": null,
      "outputs": []
    }
  ]
}